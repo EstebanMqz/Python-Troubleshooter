{
 "cells": [
  {
   "cell_type": "markdown",
   "metadata": {},
   "source": [
    "[![Pkg_Migration](https://img.shields.io/badge/Pkg_Migration-README.md-black?style=square&logo=github&logoColor=black)](https://github.com/EstebanMqz/Pkg_Migration/tree/main)"
   ]
  },
  {
   "cell_type": "markdown",
   "metadata": {},
   "source": [
    "### <p align=\"center\"><font color=\"#3994e3\"> Subprocess dependency resolution.</font></p>"
   ]
  },
  {
   "cell_type": "markdown",
   "metadata": {},
   "source": [
    "#### <font color= '#3994e3'> 1. List pkgs in old Python env for its migration.\n",
    "[`old.txt`](https://github.com/EstebanMqz/Pkg_Migration/blob/main/old.txt). </font>"
   ]
  },
  {
   "cell_type": "code",
   "execution_count": 1,
   "metadata": {},
   "outputs": [
    {
     "data": {
      "text/plain": [
       "(['Package                           Version',\n",
       "  '--------------------------------- -----------',\n",
       "  'absl-py                           1.4.0',\n",
       "  'aiodns                            3.0.0',\n",
       "  'aiohttp                           3.8.5',\n",
       "  'aiosignal                         1.3.1',\n",
       "  'alabaster                         0.7.13',\n",
       "  'altair                            5.1.1',\n",
       "  'anaconda-client                   1.2.2',\n",
       "  'ansi2html                         1.8.0'],\n",
       " 499)"
      ]
     },
     "execution_count": 1,
     "metadata": {},
     "output_type": "execute_result"
    }
   ],
   "source": [
    "pip_list_output = !pip list\n",
    "num_packages = len(pip_list_output) - 2  # Subtract 2 for the header lines\n",
    "pip_list_output[:10], num_packages "
   ]
  },
  {
   "cell_type": "markdown",
   "metadata": {},
   "source": [
    "#### <font color= '#3994e3'>2. Retrieve pkgs names (versions will be updated)"
   ]
  },
  {
   "cell_type": "code",
   "execution_count": 2,
   "metadata": {},
   "outputs": [
    {
     "name": "stdout",
     "output_type": "stream",
     "text": [
      "['absl-py', 'aiodns', 'aiohttp', 'aiosignal', 'alabaster', 'altair', 'anaconda-client', 'ansi2html', 'anyio', 'appdirs', 'argon2-cffi', 'argon2-cffi-bindings', 'arrow', 'asgiref', 'astroid', 'astropy', 'asttokens', 'astunparse', 'async-lru', 'async-timeout', 'atomicwrites', 'attrs', 'Automat', 'autopep8', 'Babel', 'backcall', 'backports.functools-lru-cache', 'backports.tempfile', 'backports.weakref', 'bcrypt', 'beautifulsoup4', 'binaryornot', 'bitarray', 'bkcharts', 'black', 'bleach', 'blinker', 'blosc2', 'bokeh', 'boto3', 'botocore', 'Bottleneck', 'brotlipy', 'cachetools', 'ccxt', 'certifi', 'cffi', 'chardet', 'charset-normalizer', 'chart-studio', 'click', 'cloudpickle', 'clyent', 'cmake', 'colorama', 'colorcet', 'colorlog', 'comm', 'commonmark', 'comtypes', 'conda-pack', 'constantly', 'contourpy', 'cookiecutter', 'coverage', 'cryptography', 'cssselect', 'cvxpy', 'cycler', 'Cython', 'cytoolz', 'daal', 'daal4py', 'dash', 'dash-core-components', 'dash-html-components', 'dash-table', 'dask', 'datashader', 'datashape', 'DateTime', 'debugpy', 'decorator', 'defusedxml', 'diff-match-patch', 'dill', 'distlib', 'distributed', 'Django', 'docopt', 'docstring-to-markdown', 'docutils', 'easy-install', 'easydev', 'ecos', 'entrypoints', 'et-xmlfile', 'exceptiongroup', 'executing', 'fastjsonschema', 'filelock', 'financetoolbox', 'fire', 'fitter', 'fix-yahoo-finance', 'flake8', 'Flask', 'flatbuffers', 'fonttools', 'fqdn', 'frozendict', 'frozenlist', 'fsspec', 'future', 'gast', 'gensim', 'genson', 'geonamescache', 'gitdb', 'GitPython', 'glob2', 'google-api-core', 'google-auth', 'google-auth-oauthlib', 'google-cloud-core', 'google-cloud-storage', 'google-crc32c', 'google-pasta', 'google-resumable-media', 'googleapis-common-protos', 'greenlet', 'grep', 'grip', 'grpcio', 'h11', 'h5py', 'HeapDict', 'holoviews', 'html5lib', 'hvplot', 'hyperlink', 'idna', 'image', 'imagecodecs', 'imageio', 'imagesize', 'importlib-metadata', 'importlib-resources', 'incremental', 'inflection', 'iniconfig', 'intake', 'intervaltree', 'ipykernel', 'ipython', 'ipython-autotime', 'ipython-genutils', 'ipywidgets', 'iso3166', 'isoduration', 'isort', 'itemadapter', 'itemloaders', 'itsdangerous', 'jaraco.classes', 'jax', 'jdcal', 'jedi', 'jellyfish', 'Jinja2', 'jinja2-time', 'jmespath', 'joblib', 'json5', 'jsonpointer', 'jsonschema', 'jsonschema-specifications', 'jupyter', 'jupyter-console', 'jupyter-contrib-core', 'jupyter-contrib-nbextensions', 'jupyter-dash', 'jupyter-events', 'jupyter-highlight-selected-word', 'jupyter-latex-envs', 'jupyter-lsp', 'jupyter-nbextensions-configurator', 'jupyter_client', 'jupyter_core', 'jupyter_server', 'jupyter_server_terminals', 'jupyterlab', 'jupyterlab-pygments', 'jupyterlab-widgets', 'jupyterlab_server', 'jupyterthemes', 'kaleido', 'keras', 'keyring', 'kiwisolver', 'lazy-object-proxy', 'lazy_loader', 'lesscpy', 'libarchive-c', 'libclang', 'linkify-it-py', 'llvmlite', 'locket', 'lxml', 'Markdown', 'markdown-it-py', 'markdown2', 'MarkupSafe', 'mathjax', 'matplotlib', 'matplotlib-inline', 'mccabe', 'mdit-py-plugins', 'mdurl', 'MetaTrader5', 'mibian', 'mistune', 'mkdir', 'ml-dtypes', 'mock', 'more-itertools', 'mpmath', 'msgpack', 'multidict', 'multipledispatch', 'multitasking', 'munkres', 'my-module', 'mypy-extensions', 'nbclassic', 'nbclient', 'nbconvert', 'nbformat', 'ndindex', 'nest-asyncio', 'networkx', 'nltk', 'nose', 'notebook', 'notebook_shim', 'numba', 'numexpr', 'numpy', 'numpy-financial', 'numpydoc', 'oauthlib', 'olefile', 'openpyxl', 'opt-einsum', 'osqp', 'outcome', 'overrides', 'packaging', 'pandas', 'pandas-datareader', 'pandoc', 'pandocfilters', 'panel', 'param', 'paramiko', 'parsel', 'parso', 'partd', 'path-and-address', 'pathlib', 'pathspec', 'patsy', 'pdfkit', 'pep8', 'pexpect', 'pickleshare', 'Pillow', 'pipreq', 'pipreqs', 'pkginfo', 'pkgutil_resolve_name', 'platformdirs', 'plotly', 'pluggy', 'plumbum', 'ply', 'poyo', 'pprintpp', 'prometheus-client', 'prompt-toolkit', 'Protego', 'protobuf', 'psutil', 'ptyprocess', 'pure-eval', 'py', 'py-cpuinfo', 'pyarrow', 'pyasn1', 'pyasn1-modules', 'pycares', 'pycodestyle', 'pycountry', 'pycountry-convert', 'pycparser', 'pyct', 'pydeck', 'PyDispatcher', 'pydocstyle', 'pyerfa', 'pyflakes', 'Pygments', 'PyHamcrest', 'pyhdb', 'PyJWT', 'pylint', 'pylint-venv', 'pyls-spyder', 'Pympler', 'PyNaCl', 'pyodbc', 'pyOpenSSL', 'pyparsing', 'pyportfolioopt', 'PyQt5', 'PyQt5-Qt5', 'PyQt5-sip', 'PyQtWebEngine', 'PyQtWebEngine-Qt5', 'pyreadline', 'pyrsistent', 'PySocks', 'pytest', 'pytest-cov', 'pytest-mock', 'python-dateutil', 'python-docx', 'python-dotenv', 'python-json-logger', 'python-lsp-black', 'python-lsp-jsonrpc', 'python-lsp-server', 'python-slugify', 'pytoolconfig', 'pytz', 'pytz-deprecation-shim', 'pyviz_comms', 'PyWavelets', 'pywin32', 'pywin32-ctypes', 'pywinpty', 'pyxirr', 'PyYAML', 'pyzmq', 'QDarkStyle', 'qdldl', 'qstylizer', 'QtAwesome', 'qtconsole', 'QtPy', 'Quandl', 'queuelib', 'referencing', 'regex', 'repoze.lru', 'requests', 'requests-file', 'requests-oauthlib', 'retrying', 'rfc3339-validator', 'rfc3986-validator', 'rich', 'rope', 'rpds-py', 'rsa', 'Rtree', 'ruamel.yaml', 'ruamel.yaml.clib', 's3transfer', 'scikit-image', 'scikit-learn', 'scikit-learn-intelex', 'scipy', 'Scrapy', 'scs', 'seaborn', 'selenium', 'semver', 'Send2Trash', 'service-identity', 'simplejson', 'sip', 'six', 'sklearn', 'smart-open', 'smmap', 'sniffio', 'snowballstemmer', 'sortedcollections', 'sortedcontainers', 'soupsieve', 'Sphinx', 'sphinxcontrib-applehelp', 'sphinxcontrib-devhelp', 'sphinxcontrib-htmlhelp', 'sphinxcontrib-jsmath', 'sphinxcontrib-qthelp', 'sphinxcontrib-serializinghtml', 'spyder', 'spyder-kernels', 'SQLAlchemy', 'sqlparse', 'stack-data', 'statsmodels', 'streamlit', 'sympy', 'tables', 'tabulate', 'tbb', 'tblib', 'tenacity', 'tensorboard', 'tensorboard-data-server', 'tensorflow', 'tensorflow-estimator', 'tensorflow-intel', 'tensorflow-io-gcs-filesystem', 'termcolor', 'terminado', 'testpath', 'text-unidecode', 'textdistance', 'threadpoolctl', 'three-merge', 'tifffile', 'tinycss', 'tinycss2', 'tk', 'tldextract', 'toml', 'tomli', 'tomlkit', 'toolz', 'tornado', 'tqdm', 'traitlets', 'trio', 'trio-websocket', 'Twisted', 'twisted-iocpsupport', 'typed-ast', 'typing_extensions', 'tzdata', 'tzlocal', 'uc-micro-py', 'ujson', 'Unidecode', 'uri-template', 'urllib3', 'validators', 'values', 'virtualenv-clone', 'w3lib', 'watchdog', 'wcwidth', 'webcolors', 'webdriver-manager', 'webencodings', 'websocket-client', 'Werkzeug', 'whatthepatch', 'widgetsnbextension', 'win-inet-pton', 'win-unicode-console', 'wincertstore', 'wordcloud', 'wrapt', 'write', 'wsproto', 'xarray', 'xlrd', 'XlsxWriter', 'xlwings', 'xyzservices', 'yahoo-finance', 'yahoofinancials', 'yapf', 'yarg', 'yarl', 'yfinance', 'zict', 'zipp', 'zope.interface', '']\n"
     ]
    }
   ],
   "source": [
    "import subprocess\n",
    "pip_freeze = subprocess.check_output(['pip', 'freeze']).decode().split('\\n')\n",
    "pkgs = [pkg.split('==')[0] for pkg in pip_freeze if pkg != '']\n",
    "with open('old_env.txt', 'w') as f:\n",
    "    for pkg in pkgs:\n",
    "        f.write(pkg + '\\n')\n",
    "\n",
    "with open('old_env.txt', 'r') as f:\n",
    "    old_pkgs = f.read().split('\\n')\n",
    "    print(old_pkgs)"
   ]
  },
  {
   "cell_type": "markdown",
   "metadata": {},
   "source": [
    "#### <font color= '#3994e3'> 2. Run program [![Shell Script](https://img.shields.io/badge/Shell%20Script-1.0.1-green?style=flat&logo=gnu-bash&logoColor=white)](https://github.com/EstebanMqz/Pkg_Migration/blob/main/Python_Repair.sh) \n",
    "\n",
    "```bash\n",
    "$ Python_Repair.sh\n",
    "```"
   ]
  },
  {
   "cell_type": "markdown",
   "metadata": {},
   "source": [
    "#### <font color= '#3994e3'> 3. Dependency-Resolution </font>"
   ]
  },
  {
   "cell_type": "markdown",
   "metadata": {},
   "source": [
    "`'--upgrade-strategy', 'to-satisfy-only'` for virtual environments <i>(from `requirements.txt`)</i>."
   ]
  },
  {
   "cell_type": "code",
   "execution_count": 5,
   "metadata": {},
   "outputs": [
    {
     "name": "stdout",
     "output_type": "stream",
     "text": [
      "Requirement already satisfied: pip in c:\\users\\esteban\\appdata\\local\\programs\\python\\python311\\lib\\site-packages (23.3.1)\n",
      "Collecting pip\n",
      "  Downloading pip-23.3.2-py3-none-any.whl.metadata (3.5 kB)\n",
      "Downloading pip-23.3.2-py3-none-any.whl (2.1 MB)\n",
      "   ---------------------------------------- 0.0/2.1 MB ? eta -:--:--\n",
      "   ---------------------------------------- 0.0/2.1 MB ? eta -:--:--\n",
      "   ---------------------------------------- 0.0/2.1 MB ? eta -:--:--\n",
      "   ---------------------------------------- 0.0/2.1 MB ? eta -:--:--\n",
      "   ---------------------------------------- 0.0/2.1 MB ? eta -:--:--\n",
      "   ---------------------------------------- 0.0/2.1 MB ? eta -:--:--\n",
      "   ---------------------------------------- 0.0/2.1 MB ? eta -:--:--\n",
      "   ---------------------------------------- 0.0/2.1 MB ? eta -:--:--\n",
      "    --------------------------------------- 0.0/2.1 MB 145.2 kB/s eta 0:00:15\n",
      "    --------------------------------------- 0.0/2.1 MB 145.2 kB/s eta 0:00:15\n",
      "    --------------------------------------- 0.0/2.1 MB 145.2 kB/s eta 0:00:15\n",
      "   - -------------------------------------- 0.1/2.1 MB 182.2 kB/s eta 0:00:12\n",
      "   - -------------------------------------- 0.1/2.1 MB 182.2 kB/s eta 0:00:12\n",
      "   -- ------------------------------------- 0.1/2.1 MB 261.9 kB/s eta 0:00:08\n",
      "   -- ------------------------------------- 0.1/2.1 MB 277.4 kB/s eta 0:00:08\n",
      "   -- ------------------------------------- 0.1/2.1 MB 277.4 kB/s eta 0:00:08\n",
      "   -- ------------------------------------- 0.1/2.1 MB 277.4 kB/s eta 0:00:08\n",
      "   -- ------------------------------------- 0.1/2.1 MB 230.3 kB/s eta 0:00:09\n",
      "   --- ------------------------------------ 0.2/2.1 MB 275.8 kB/s eta 0:00:08\n",
      "   ---- ----------------------------------- 0.2/2.1 MB 327.8 kB/s eta 0:00:06\n",
      "   ---- ----------------------------------- 0.2/2.1 MB 335.0 kB/s eta 0:00:06\n",
      "   ----- ---------------------------------- 0.3/2.1 MB 382.3 kB/s eta 0:00:05\n",
      "   ------ --------------------------------- 0.3/2.1 MB 398.3 kB/s eta 0:00:05\n",
      "   -------- ------------------------------- 0.5/2.1 MB 544.2 kB/s eta 0:00:04\n",
      "   -------- ------------------------------- 0.5/2.1 MB 544.2 kB/s eta 0:00:04\n",
      "   -------- ------------------------------- 0.5/2.1 MB 544.2 kB/s eta 0:00:04\n",
      "   ---------- ----------------------------- 0.5/2.1 MB 541.1 kB/s eta 0:00:03\n",
      "   ----------- ---------------------------- 0.6/2.1 MB 595.9 kB/s eta 0:00:03\n",
      "   ------------ --------------------------- 0.6/2.1 MB 597.8 kB/s eta 0:00:03\n",
      "   ------------ --------------------------- 0.6/2.1 MB 597.8 kB/s eta 0:00:03\n",
      "   ------------ --------------------------- 0.6/2.1 MB 597.8 kB/s eta 0:00:03\n",
      "   -------------- ------------------------- 0.8/2.1 MB 605.8 kB/s eta 0:00:03\n",
      "   ------------------------- -------------- 1.4/2.1 MB 1.1 MB/s eta 0:00:01\n",
      "   ------------------------- -------------- 1.4/2.1 MB 1.1 MB/s eta 0:00:01\n",
      "   ------------------------- -------------- 1.4/2.1 MB 1.1 MB/s eta 0:00:01\n",
      "   ----------------------------- ---------- 1.6/2.1 MB 1.1 MB/s eta 0:00:01\n",
      "   ---------------------------------------- 2.1/2.1 MB 1.4 MB/s eta 0:00:00\n",
      "Installing collected packages: pip\n",
      "  Attempting uninstall: pip\n",
      "    Found existing installation: pip 23.3.1\n",
      "    Uninstalling pip-23.3.1:\n",
      "      Successfully uninstalled pip-23.3.1\n",
      "Successfully installed pip-23.3.2\n",
      "Note: you may need to restart the kernel to use updated packages.\n"
     ]
    }
   ],
   "source": [
    "pip install --upgrade pip"
   ]
  },
  {
   "cell_type": "code",
   "execution_count": 4,
   "metadata": {},
   "outputs": [],
   "source": [
    "with open('old.txt', 'r') as f:\n",
    "    pkgs = f.readlines()\n",
    "for pkg in pkgs:\n",
    "    try: \n",
    "        subprocess.check_call(['pip', 'install', '--upgrade',\\\n",
    "                               '--upgrade-strategy', 'only-if-needed', pkg]) #if requirements.txt: 'to-satisfy-only'\n",
    "        pkg_info = subprocess.check_output(['pip', 'show', pkg]).decode('utf-8')\n",
    "        pkg_version = [line for line in pkg_info.split('\\n') if line.startswith('Version: ')][0].split(': ')[1]\n",
    "        print(f\"Successfully updated {pkg} to version {pkg_version}\") \n",
    "    except subprocess.CalledProcessError as e:\n",
    "        print(f\"An error occurred while updating {pkg}: {e.returncode}\")\n",
    "        pass"
   ]
  },
  {
   "cell_type": "markdown",
   "metadata": {},
   "source": [
    "<i>Downgrades are made to the latest pkgs versions.<br> </i>"
   ]
  }
 ],
 "metadata": {
  "kernelspec": {
   "display_name": "base",
   "language": "python",
   "name": "python3"
  },
  "language_info": {
   "codemirror_mode": {
    "name": "ipython",
    "version": 3
   },
   "file_extension": ".py",
   "mimetype": "text/x-python",
   "name": "python",
   "nbconvert_exporter": "python",
   "pygments_lexer": "ipython3",
   "version": "3.11.5"
  },
  "orig_nbformat": 4
 },
 "nbformat": 4,
 "nbformat_minor": 2
}
