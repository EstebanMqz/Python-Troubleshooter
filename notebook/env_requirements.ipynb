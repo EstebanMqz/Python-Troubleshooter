{
 "cells": [
  {
   "cell_type": "markdown",
   "metadata": {},
   "source": [
    "[![Pkg_Migration](https://img.shields.io/badge/Pkg_Migration-README.md-black?style=square&logo=github&logoColor=black)](https://github.com/EstebanMqz/Pkg_Migration/tree/main)"
   ]
  },
  {
   "cell_type": "markdown",
   "metadata": {},
   "source": [
    "### <p align=\"center\"><font color=\"#3994e3\"> Subprocess dependency resolution.</font></p>"
   ]
  },
  {
   "cell_type": "markdown",
   "metadata": {},
   "source": [
    "#### <font color= '#3994e3'> 1. List pkgs for the Python migration & pkgs updates.\n",
    "[`requirements.txt`](https://github.com/EstebanMqz/Python-Troubleshooter/blob/main/requirements.txt). </font>\n",
    "\n",
    "<a id='list-pkgs'></a>\n"
   ]
  },
  {
   "cell_type": "code",
   "execution_count": 3,
   "metadata": {},
   "outputs": [
    {
     "data": {
      "text/plain": [
       "(['Package                           Version',\n",
       "  '--------------------------------- -----------',\n",
       "  'absl-py                           1.4.0',\n",
       "  'aiodns                            3.0.0',\n",
       "  'aiohttp                           3.8.5',\n",
       "  'aiosignal                         1.3.1',\n",
       "  'alabaster                         0.7.13',\n",
       "  'altair                            5.1.1',\n",
       "  'anaconda-client                   1.2.2',\n",
       "  'ansi2html                         1.8.0'],\n",
       " 496)"
      ]
     },
     "execution_count": 3,
     "metadata": {},
     "output_type": "execute_result"
    }
   ],
   "source": [
    "pip_list_output = !pip list\n",
    "num_packages = len(pip_list_output) - 2  # Subtract 2 for the header lines\n",
    "pip_list_output[:10], num_packages "
   ]
  },
  {
   "cell_type": "markdown",
   "metadata": {},
   "source": [
    "#### <font color= '#3994e3'>2. Retrieve pkgs names </font>\n",
    "\n",
    "<a id='pkgs'></a>\n",
    "\n",
    "We only need pkgs names for them to be updated to the new Python environment (version)."
   ]
  },
  {
   "cell_type": "code",
   "execution_count": 4,
   "metadata": {},
   "outputs": [
    {
     "name": "stdout",
     "output_type": "stream",
     "text": [
      "['absl-py', 'aiodns', 'aiohttp', 'aiosignal', 'alabaster', 'altair', 'anaconda-client', 'ansi2html', 'anyio', 'appdirs', 'argon2-cffi', 'argon2-cffi-bindings', 'arrow', 'asgiref', 'astroid', 'astropy', 'asttokens', 'astunparse', 'async-lru', 'async-timeout', 'atomicwrites', 'attrs', 'Automat', 'autopep8', 'Babel', 'backcall', 'backports.functools-lru-cache', 'backports.tempfile', 'backports.weakref', 'bcrypt', 'beautifulsoup4', 'binaryornot', 'bitarray', 'bkcharts', 'black', 'bleach', 'blinker', 'blosc2', 'bokeh', 'boto3', 'botocore', 'Bottleneck', 'brotlipy', 'cachetools', 'ccxt', 'certifi', 'cffi', 'chardet', 'charset-normalizer', 'chart-studio', 'click', 'cloudpickle', 'clyent', 'cmake', 'colorama', 'colorcet', 'colorlog', 'comm', 'commonmark', 'comtypes', 'conda-pack', 'constantly', 'contourpy', 'cookiecutter', 'coverage', 'cryptography', 'cssselect', 'cvxpy', 'cycler', 'Cython', 'cytoolz', 'daal', 'daal4py', 'dash', 'dash-core-components', 'dash-html-components', 'dash-table', 'dask', 'datashader', 'datashape', 'DateTime', 'debugpy', 'decorator', 'defusedxml', 'diff-match-patch', 'dill', 'distlib', 'distributed', 'Django', 'docopt', 'docstring-to-markdown', 'docutils', 'easy-install', 'easydev', 'ecos', 'entrypoints', 'et-xmlfile', 'exceptiongroup', 'executing', 'fastjsonschema', 'filelock', 'financetoolbox', 'fire', 'fitter', 'fix-yahoo-finance', 'flake8', 'Flask', 'flatbuffers', 'fonttools', 'fqdn', 'frozendict', 'frozenlist', 'fsspec', 'future', 'gast', 'gensim', 'genson', 'geonamescache', 'gitdb', 'GitPython', 'glob2', 'google-api-core', 'google-auth', 'google-auth-oauthlib', 'google-cloud-core', 'google-cloud-storage', 'google-crc32c', 'google-pasta', 'google-resumable-media', 'googleapis-common-protos', 'greenlet', 'grep', 'grip', 'grpcio', 'h11', 'h5py', 'HeapDict', 'holoviews', 'html5lib', 'hvplot', 'hyperlink', 'idna', 'image', 'imagecodecs', 'imageio', 'imagesize', 'importlib-metadata', 'importlib-resources', 'incremental', 'inflection', 'iniconfig', 'intake', 'intervaltree', 'ipykernel', 'ipython', 'ipython-autotime', 'ipython-genutils', 'ipywidgets', 'iso3166', 'isoduration', 'isort', 'itemadapter', 'itemloaders', 'itsdangerous', 'jaraco.classes', 'jax', 'jdcal', 'jedi', 'jellyfish', 'Jinja2', 'jinja2-time', 'jmespath', 'joblib', 'json5', 'jsonpointer', 'jsonschema', 'jsonschema-specifications', 'jupyter', 'jupyter-console', 'jupyter-contrib-core', 'jupyter-contrib-nbextensions', 'jupyter-dash', 'jupyter-events', 'jupyter-highlight-selected-word', 'jupyter-latex-envs', 'jupyter-lsp', 'jupyter-nbextensions-configurator', 'jupyter_client', 'jupyter_core', 'jupyter_server', 'jupyter_server_terminals', 'jupyterlab', 'jupyterlab-pygments', 'jupyterlab-widgets', 'jupyterlab_server', 'jupyterthemes', 'kaleido', 'keras', 'keyring', 'kiwisolver', 'lazy-object-proxy', 'lazy_loader', 'lesscpy', 'libarchive-c', 'libclang', 'linkify-it-py', 'llvmlite', 'locket', 'lxml', 'Markdown', 'markdown-it-py', 'markdown2', 'MarkupSafe', 'mathjax', 'matplotlib', 'matplotlib-inline', 'mccabe', 'mdit-py-plugins', 'mdurl', 'MetaTrader5', 'mibian', 'mistune', 'mkdir', 'ml-dtypes', 'mock', 'more-itertools', 'mpmath', 'msgpack', 'multidict', 'multipledispatch', 'multitasking', 'munkres', 'my-module', 'mypy-extensions', 'nbclassic', 'nbclient', 'nbconvert', 'nbformat', 'ndindex', 'nest-asyncio', 'networkx', 'nltk', 'nose', 'notebook', 'notebook_shim', 'numba', 'numexpr', 'numpy', 'numpy-financial', 'numpydoc', 'oauthlib', 'olefile', 'openpyxl', 'opt-einsum', 'osqp', 'outcome', 'overrides', 'packaging', 'pandas', 'pandas-datareader', 'pandoc', 'pandocfilters', 'panel', 'param', 'paramiko', 'parsel', 'parso', 'partd', 'path-and-address', 'pathlib', 'pathspec', 'patsy', 'pdfkit', 'pep8', 'pexpect', 'pickleshare', 'Pillow', 'pipreq', 'pipreqs', 'pkginfo', 'pkgutil_resolve_name', 'platformdirs', 'plotly', 'pluggy', 'plumbum', 'ply', 'poyo', 'pprintpp', 'prometheus-client', 'prompt-toolkit', 'Protego', 'protobuf', 'psutil', 'ptyprocess', 'pure-eval', 'py', 'py-cpuinfo', 'pyarrow', 'pyasn1', 'pyasn1-modules', 'pycares', 'pycodestyle', 'pycountry', 'pycountry-convert', 'pycparser', 'pyct', 'pydeck', 'PyDispatcher', 'pydocstyle', 'pyerfa', 'pyflakes', 'Pygments', 'PyHamcrest', 'pyhdb', 'PyJWT', 'pylint', 'pylint-venv', 'pyls-spyder', 'Pympler', 'PyNaCl', 'pyodbc', 'pyOpenSSL', 'pyparsing', 'pyportfolioopt', 'PyQt5', 'PyQt5-Qt5', 'PyQt5-sip', 'PyQtWebEngine', 'PyQtWebEngine-Qt5', 'pyreadline', 'pyrsistent', 'PySocks', 'pytest', 'pytest-cov', 'pytest-mock', 'python-dateutil', 'python-docx', 'python-dotenv', 'python-json-logger', 'python-lsp-black', 'python-lsp-jsonrpc', 'python-lsp-server', 'python-slugify', 'pytoolconfig', 'pytz', 'pytz-deprecation-shim', 'pyviz_comms', 'PyWavelets', 'pywin32', 'pywin32-ctypes', 'pywinpty', 'pyxirr', 'PyYAML', 'pyzmq', 'QDarkStyle', 'qdldl', 'qstylizer', 'QtAwesome', 'qtconsole', 'QtPy', 'Quandl', 'queuelib', 'referencing', 'regex', 'repoze.lru', 'requests', 'requests-file', 'requests-oauthlib', 'retrying', 'rfc3339-validator', 'rfc3986-validator', 'rich', 'rope', 'rpds-py', 'rsa', 'Rtree', 'ruamel.yaml', 'ruamel.yaml.clib', 's3transfer', 'scikit-image', 'scikit-learn', 'scikit-learn-intelex', 'scipy', 'Scrapy', 'scs', 'seaborn', 'selenium', 'semver', 'Send2Trash', 'service-identity', 'simplejson', 'sip', 'six', 'sklearn', 'smart-open', 'smmap', 'sniffio', 'snowballstemmer', 'sortedcollections', 'sortedcontainers', 'soupsieve', 'Sphinx', 'sphinxcontrib-applehelp', 'sphinxcontrib-devhelp', 'sphinxcontrib-htmlhelp', 'sphinxcontrib-jsmath', 'sphinxcontrib-qthelp', 'sphinxcontrib-serializinghtml', 'spyder', 'spyder-kernels', 'SQLAlchemy', 'sqlparse', 'stack-data', 'statsmodels', 'streamlit', 'sympy', 'tables', 'tabulate', 'tbb', 'tblib', 'tenacity', 'tensorboard', 'tensorboard-data-server', 'tensorflow', 'tensorflow-estimator', 'tensorflow-intel', 'tensorflow-io-gcs-filesystem', 'termcolor', 'terminado', 'testpath', 'text-unidecode', 'textdistance', 'threadpoolctl', 'three-merge', 'tifffile', 'tinycss', 'tinycss2', 'tk', 'tldextract', 'toml', 'tomli', 'tomlkit', 'toolz', 'tornado', 'tqdm', 'traitlets', 'trio', 'trio-websocket', 'Twisted', 'twisted-iocpsupport', 'typed-ast', 'typing_extensions', 'tzdata', 'tzlocal', 'uc-micro-py', 'ujson', 'Unidecode', 'uri-template', 'urllib3', 'validators', 'values', 'virtualenv-clone', 'w3lib', 'watchdog', 'wcwidth', 'webcolors', 'webdriver-manager', 'webencodings', 'websocket-client', 'Werkzeug', 'whatthepatch', 'widgetsnbextension', 'win-inet-pton', 'win-unicode-console', 'wincertstore', 'wordcloud', 'wrapt', 'write', 'wsproto', 'xarray', 'xlrd', 'XlsxWriter', 'xlwings', 'xyzservices', 'yahoo-finance', 'yahoofinancials', 'yapf', 'yarg', 'yarl', 'yfinance', 'zict', 'zipp', 'zope.interface', '']\n"
     ]
    }
   ],
   "source": [
    "import subprocess\n",
    "pip_freeze = subprocess.check_output(['pip', 'freeze']).decode().split('\\n')\n",
    "pkgs = [pkg.split('==')[0] for pkg in pip_freeze if pkg != '']\n",
    "\n",
    "with open('../.txt/requirements.txt', 'w') as f:\n",
    "    for pkg in pkgs:\n",
    "        f.write(pkg + '\\n')\n",
    "\n",
    "with open(('../.txt/requirements.txt'), 'r') as f:\n",
    "    requirements = f.read().split('\\n')\n",
    "    print(requirements)"
   ]
  },
  {
   "cell_type": "markdown",
   "metadata": {},
   "source": [
    "#### <font color= '#3994e3'> 2. Run program [![Bash.sh](https://img.shields.io/badge/Bash%20.sh-5.0.21-green?style=flat&logo=gnu-bash&logoColor=white)](https://github.com/EstebanMqz/Pkg_Migration/blob/main/.sh/Python_Repair.sh) \n",
    "\n",
    "```bash\n",
    "$ Python_Repair.sh\n",
    "```"
   ]
  },
  {
   "cell_type": "markdown",
   "metadata": {},
   "source": [
    "#### <font color= '#3994e3'> 3. Dependency-Resolution </font>\n",
    "\n",
    "<a id='Resolution'></a>"
   ]
  },
  {
   "cell_type": "code",
   "execution_count": 7,
   "metadata": {},
   "outputs": [
    {
     "name": "stdout",
     "output_type": "stream",
     "text": [
      "Requirement already satisfied: pip in c:\\users\\esteban\\appdata\\local\\programs\\python\\python311\\lib\\site-packages (23.3.2)Note: you may need to restart the kernel to use updated packages.\n",
      "\n"
     ]
    }
   ],
   "source": [
    "pip install --upgrade pip"
   ]
  },
  {
   "cell_type": "code",
   "execution_count": 1,
   "metadata": {},
   "outputs": [],
   "source": [
    "with open('../.txt/requirements.txt', 'r') as f:\n",
    "    pkgs = f.readlines()\n",
    "for pkg in pkgs:\n",
    "    try: \n",
    "        subprocess.check_call(['pip', 'install', '--upgrade',\\\n",
    "                               '--upgrade-strategy', 'only-if-needed', pkg]) #eager\n",
    "        pkg_info = subprocess.check_output(['pip', 'show', pkg]).decode('utf-8')\n",
    "        pkg_version = [line for line in pkg_info.split('\\n') if line.startswith('Version: ')][0].split(': ')[1]\n",
    "        print(f\"Successfully updated {pkg} to version {pkg_version}\") \n",
    "    except subprocess.CalledProcessError as e:\n",
    "        print(f\"An error occurred while updating {pkg}: {e.returncode}\")\n",
    "        pass"
   ]
  }
 ],
 "metadata": {
  "kernelspec": {
   "display_name": "base",
   "language": "python",
   "name": "python3"
  },
  "language_info": {
   "codemirror_mode": {
    "name": "ipython",
    "version": 3
   },
   "file_extension": ".py",
   "mimetype": "text/x-python",
   "name": "python",
   "nbconvert_exporter": "python",
   "pygments_lexer": "ipython3",
   "version": "3.11.5"
  },
  "orig_nbformat": 4
 },
 "nbformat": 4,
 "nbformat_minor": 2
}
